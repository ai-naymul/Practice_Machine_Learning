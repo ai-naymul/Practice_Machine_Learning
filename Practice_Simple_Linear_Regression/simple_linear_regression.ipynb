{
 "cells": [
  {
   "cell_type": "markdown",
   "metadata": {},
   "source": [
    "## Import Necessary Liabry"
   ]
  },
  {
   "cell_type": "code",
   "execution_count": 1,
   "metadata": {},
   "outputs": [],
   "source": [
    "import numpy as np\n",
    "import pandas as pd\n",
    "import matplotlib.pyplot as plt"
   ]
  },
  {
   "cell_type": "markdown",
   "metadata": {},
   "source": [
    "##Load the Dataset and Have a Preview of that"
   ]
  },
  {
   "cell_type": "code",
   "execution_count": 2,
   "metadata": {},
   "outputs": [
    {
     "data": {
      "text/html": [
       "<div>\n",
       "<style scoped>\n",
       "    .dataframe tbody tr th:only-of-type {\n",
       "        vertical-align: middle;\n",
       "    }\n",
       "\n",
       "    .dataframe tbody tr th {\n",
       "        vertical-align: top;\n",
       "    }\n",
       "\n",
       "    .dataframe thead th {\n",
       "        text-align: right;\n",
       "    }\n",
       "</style>\n",
       "<table border=\"1\" class=\"dataframe\">\n",
       "  <thead>\n",
       "    <tr style=\"text-align: right;\">\n",
       "      <th></th>\n",
       "      <th>TV</th>\n",
       "      <th>Sales</th>\n",
       "    </tr>\n",
       "  </thead>\n",
       "  <tbody>\n",
       "    <tr>\n",
       "      <th>0</th>\n",
       "      <td>230.1</td>\n",
       "      <td>22.1</td>\n",
       "    </tr>\n",
       "    <tr>\n",
       "      <th>1</th>\n",
       "      <td>44.5</td>\n",
       "      <td>10.4</td>\n",
       "    </tr>\n",
       "    <tr>\n",
       "      <th>2</th>\n",
       "      <td>17.2</td>\n",
       "      <td>9.3</td>\n",
       "    </tr>\n",
       "    <tr>\n",
       "      <th>3</th>\n",
       "      <td>151.5</td>\n",
       "      <td>18.5</td>\n",
       "    </tr>\n",
       "    <tr>\n",
       "      <th>4</th>\n",
       "      <td>180.8</td>\n",
       "      <td>12.9</td>\n",
       "    </tr>\n",
       "  </tbody>\n",
       "</table>\n",
       "</div>"
      ],
      "text/plain": [
       "      TV  Sales\n",
       "0  230.1   22.1\n",
       "1   44.5   10.4\n",
       "2   17.2    9.3\n",
       "3  151.5   18.5\n",
       "4  180.8   12.9"
      ]
     },
     "execution_count": 2,
     "metadata": {},
     "output_type": "execute_result"
    }
   ],
   "source": [
    "data = pd.read_csv('tvmarketing.csv')\n",
    "data.head()"
   ]
  },
  {
   "cell_type": "markdown",
   "metadata": {},
   "source": [
    "Define the X and y value or dependent or independent feature"
   ]
  },
  {
   "cell_type": "code",
   "execution_count": 3,
   "metadata": {},
   "outputs": [],
   "source": [
    "X = data.iloc[:, :-1].values\n",
    "y = data.iloc[:, -1].values"
   ]
  },
  {
   "cell_type": "markdown",
   "metadata": {},
   "source": [
    "Handling Missing Values"
   ]
  },
  {
   "cell_type": "code",
   "execution_count": 4,
   "metadata": {},
   "outputs": [
    {
     "name": "stdout",
     "output_type": "stream",
     "text": [
      "[[230.1]\n",
      " [ 44.5]\n",
      " [ 17.2]\n",
      " [151.5]\n",
      " [180.8]\n",
      " [  8.7]\n",
      " [ 57.5]\n",
      " [120.2]\n",
      " [  8.6]\n",
      " [199.8]\n",
      " [ 66.1]\n",
      " [214.7]\n",
      " [ 23.8]\n",
      " [ 97.5]\n",
      " [204.1]\n",
      " [195.4]\n",
      " [ 67.8]\n",
      " [281.4]\n",
      " [ 69.2]\n",
      " [147.3]\n",
      " [218.4]\n",
      " [237.4]\n",
      " [ 13.2]\n",
      " [228.3]\n",
      " [ 62.3]\n",
      " [262.9]\n",
      " [142.9]\n",
      " [240.1]\n",
      " [248.8]\n",
      " [ 70.6]\n",
      " [292.9]\n",
      " [112.9]\n",
      " [ 97.2]\n",
      " [265.6]\n",
      " [ 95.7]\n",
      " [290.7]\n",
      " [266.9]\n",
      " [ 74.7]\n",
      " [ 43.1]\n",
      " [228. ]\n",
      " [202.5]\n",
      " [177. ]\n",
      " [293.6]\n",
      " [206.9]\n",
      " [ 25.1]\n",
      " [175.1]\n",
      " [ 89.7]\n",
      " [239.9]\n",
      " [227.2]\n",
      " [ 66.9]\n",
      " [199.8]\n",
      " [100.4]\n",
      " [216.4]\n",
      " [182.6]\n",
      " [262.7]\n",
      " [198.9]\n",
      " [  7.3]\n",
      " [136.2]\n",
      " [210.8]\n",
      " [210.7]\n",
      " [ 53.5]\n",
      " [261.3]\n",
      " [239.3]\n",
      " [102.7]\n",
      " [131.1]\n",
      " [ 69. ]\n",
      " [ 31.5]\n",
      " [139.3]\n",
      " [237.4]\n",
      " [216.8]\n",
      " [199.1]\n",
      " [109.8]\n",
      " [ 26.8]\n",
      " [129.4]\n",
      " [213.4]\n",
      " [ 16.9]\n",
      " [ 27.5]\n",
      " [120.5]\n",
      " [  5.4]\n",
      " [116. ]\n",
      " [ 76.4]\n",
      " [239.8]\n",
      " [ 75.3]\n",
      " [ 68.4]\n",
      " [213.5]\n",
      " [193.2]\n",
      " [ 76.3]\n",
      " [110.7]\n",
      " [ 88.3]\n",
      " [109.8]\n",
      " [134.3]\n",
      " [ 28.6]\n",
      " [217.7]\n",
      " [250.9]\n",
      " [107.4]\n",
      " [163.3]\n",
      " [197.6]\n",
      " [184.9]\n",
      " [289.7]\n",
      " [135.2]\n",
      " [222.4]\n",
      " [296.4]\n",
      " [280.2]\n",
      " [187.9]\n",
      " [238.2]\n",
      " [137.9]\n",
      " [ 25. ]\n",
      " [ 90.4]\n",
      " [ 13.1]\n",
      " [255.4]\n",
      " [225.8]\n",
      " [241.7]\n",
      " [175.7]\n",
      " [209.6]\n",
      " [ 78.2]\n",
      " [ 75.1]\n",
      " [139.2]\n",
      " [ 76.4]\n",
      " [125.7]\n",
      " [ 19.4]\n",
      " [141.3]\n",
      " [ 18.8]\n",
      " [224. ]\n",
      " [123.1]\n",
      " [229.5]\n",
      " [ 87.2]\n",
      " [  7.8]\n",
      " [ 80.2]\n",
      " [220.3]\n",
      " [ 59.6]\n",
      " [  0.7]\n",
      " [265.2]\n",
      " [  8.4]\n",
      " [219.8]\n",
      " [ 36.9]\n",
      " [ 48.3]\n",
      " [ 25.6]\n",
      " [273.7]\n",
      " [ 43. ]\n",
      " [184.9]\n",
      " [ 73.4]\n",
      " [193.7]\n",
      " [220.5]\n",
      " [104.6]\n",
      " [ 96.2]\n",
      " [140.3]\n",
      " [240.1]\n",
      " [243.2]\n",
      " [ 38. ]\n",
      " [ 44.7]\n",
      " [280.7]\n",
      " [121. ]\n",
      " [197.6]\n",
      " [171.3]\n",
      " [187.8]\n",
      " [  4.1]\n",
      " [ 93.9]\n",
      " [149.8]\n",
      " [ 11.7]\n",
      " [131.7]\n",
      " [172.5]\n",
      " [ 85.7]\n",
      " [188.4]\n",
      " [163.5]\n",
      " [117.2]\n",
      " [234.5]\n",
      " [ 17.9]\n",
      " [206.8]\n",
      " [215.4]\n",
      " [284.3]\n",
      " [ 50. ]\n",
      " [164.5]\n",
      " [ 19.6]\n",
      " [168.4]\n",
      " [222.4]\n",
      " [276.9]\n",
      " [248.4]\n",
      " [170.2]\n",
      " [276.7]\n",
      " [165.6]\n",
      " [156.6]\n",
      " [218.5]\n",
      " [ 56.2]\n",
      " [287.6]\n",
      " [253.8]\n",
      " [205. ]\n",
      " [139.5]\n",
      " [191.1]\n",
      " [286. ]\n",
      " [ 18.7]\n",
      " [ 39.5]\n",
      " [ 75.5]\n",
      " [ 17.2]\n",
      " [166.8]\n",
      " [149.7]\n",
      " [ 38.2]\n",
      " [ 94.2]\n",
      " [177. ]\n",
      " [283.6]\n",
      " [232.1]]\n"
     ]
    }
   ],
   "source": [
    "from sklearn.impute import SimpleImputer\n",
    "imputer = SimpleImputer(missing_values=np.nan, strategy='mean')\n",
    "imputer.fit(X[:, :1])\n",
    "X[:, :1] = imputer.transform(X[:, :1])\n",
    "print(X)"
   ]
  },
  {
   "cell_type": "markdown",
   "metadata": {},
   "source": [
    "Split the data into train test split"
   ]
  },
  {
   "cell_type": "code",
   "execution_count": 7,
   "metadata": {},
   "outputs": [],
   "source": [
    "from sklearn.model_selection import train_test_split\n",
    "X_train, X_test, y_train, y_test = train_test_split(X,y,test_size=0.2, random_state=1)"
   ]
  },
  {
   "cell_type": "code",
   "execution_count": 8,
   "metadata": {},
   "outputs": [
    {
     "data": {
      "text/html": [
       "<style>#sk-container-id-1 {color: black;}#sk-container-id-1 pre{padding: 0;}#sk-container-id-1 div.sk-toggleable {background-color: white;}#sk-container-id-1 label.sk-toggleable__label {cursor: pointer;display: block;width: 100%;margin-bottom: 0;padding: 0.3em;box-sizing: border-box;text-align: center;}#sk-container-id-1 label.sk-toggleable__label-arrow:before {content: \"▸\";float: left;margin-right: 0.25em;color: #696969;}#sk-container-id-1 label.sk-toggleable__label-arrow:hover:before {color: black;}#sk-container-id-1 div.sk-estimator:hover label.sk-toggleable__label-arrow:before {color: black;}#sk-container-id-1 div.sk-toggleable__content {max-height: 0;max-width: 0;overflow: hidden;text-align: left;background-color: #f0f8ff;}#sk-container-id-1 div.sk-toggleable__content pre {margin: 0.2em;color: black;border-radius: 0.25em;background-color: #f0f8ff;}#sk-container-id-1 input.sk-toggleable__control:checked~div.sk-toggleable__content {max-height: 200px;max-width: 100%;overflow: auto;}#sk-container-id-1 input.sk-toggleable__control:checked~label.sk-toggleable__label-arrow:before {content: \"▾\";}#sk-container-id-1 div.sk-estimator input.sk-toggleable__control:checked~label.sk-toggleable__label {background-color: #d4ebff;}#sk-container-id-1 div.sk-label input.sk-toggleable__control:checked~label.sk-toggleable__label {background-color: #d4ebff;}#sk-container-id-1 input.sk-hidden--visually {border: 0;clip: rect(1px 1px 1px 1px);clip: rect(1px, 1px, 1px, 1px);height: 1px;margin: -1px;overflow: hidden;padding: 0;position: absolute;width: 1px;}#sk-container-id-1 div.sk-estimator {font-family: monospace;background-color: #f0f8ff;border: 1px dotted black;border-radius: 0.25em;box-sizing: border-box;margin-bottom: 0.5em;}#sk-container-id-1 div.sk-estimator:hover {background-color: #d4ebff;}#sk-container-id-1 div.sk-parallel-item::after {content: \"\";width: 100%;border-bottom: 1px solid gray;flex-grow: 1;}#sk-container-id-1 div.sk-label:hover label.sk-toggleable__label {background-color: #d4ebff;}#sk-container-id-1 div.sk-serial::before {content: \"\";position: absolute;border-left: 1px solid gray;box-sizing: border-box;top: 0;bottom: 0;left: 50%;z-index: 0;}#sk-container-id-1 div.sk-serial {display: flex;flex-direction: column;align-items: center;background-color: white;padding-right: 0.2em;padding-left: 0.2em;position: relative;}#sk-container-id-1 div.sk-item {position: relative;z-index: 1;}#sk-container-id-1 div.sk-parallel {display: flex;align-items: stretch;justify-content: center;background-color: white;position: relative;}#sk-container-id-1 div.sk-item::before, #sk-container-id-1 div.sk-parallel-item::before {content: \"\";position: absolute;border-left: 1px solid gray;box-sizing: border-box;top: 0;bottom: 0;left: 50%;z-index: -1;}#sk-container-id-1 div.sk-parallel-item {display: flex;flex-direction: column;z-index: 1;position: relative;background-color: white;}#sk-container-id-1 div.sk-parallel-item:first-child::after {align-self: flex-end;width: 50%;}#sk-container-id-1 div.sk-parallel-item:last-child::after {align-self: flex-start;width: 50%;}#sk-container-id-1 div.sk-parallel-item:only-child::after {width: 0;}#sk-container-id-1 div.sk-dashed-wrapped {border: 1px dashed gray;margin: 0 0.4em 0.5em 0.4em;box-sizing: border-box;padding-bottom: 0.4em;background-color: white;}#sk-container-id-1 div.sk-label label {font-family: monospace;font-weight: bold;display: inline-block;line-height: 1.2em;}#sk-container-id-1 div.sk-label-container {text-align: center;}#sk-container-id-1 div.sk-container {/* jupyter's `normalize.less` sets `[hidden] { display: none; }` but bootstrap.min.css set `[hidden] { display: none !important; }` so we also need the `!important` here to be able to override the default hidden behavior on the sphinx rendered scikit-learn.org. See: https://github.com/scikit-learn/scikit-learn/issues/21755 */display: inline-block !important;position: relative;}#sk-container-id-1 div.sk-text-repr-fallback {display: none;}</style><div id=\"sk-container-id-1\" class=\"sk-top-container\"><div class=\"sk-text-repr-fallback\"><pre>LinearRegression()</pre><b>In a Jupyter environment, please rerun this cell to show the HTML representation or trust the notebook. <br />On GitHub, the HTML representation is unable to render, please try loading this page with nbviewer.org.</b></div><div class=\"sk-container\" hidden><div class=\"sk-item\"><div class=\"sk-estimator sk-toggleable\"><input class=\"sk-toggleable__control sk-hidden--visually\" id=\"sk-estimator-id-1\" type=\"checkbox\" checked><label for=\"sk-estimator-id-1\" class=\"sk-toggleable__label sk-toggleable__label-arrow\">LinearRegression</label><div class=\"sk-toggleable__content\"><pre>LinearRegression()</pre></div></div></div></div></div>"
      ],
      "text/plain": [
       "LinearRegression()"
      ]
     },
     "execution_count": 8,
     "metadata": {},
     "output_type": "execute_result"
    }
   ],
   "source": [
    "from sklearn.linear_model import LinearRegression\n",
    "regressor = LinearRegression()\n",
    "regressor.fit(X_train, y_train)"
   ]
  },
  {
   "cell_type": "code",
   "execution_count": 12,
   "metadata": {},
   "outputs": [
    {
     "name": "stdout",
     "output_type": "stream",
     "text": [
      "[7.99489162]\n"
     ]
    }
   ],
   "source": [
    "print(regressor.predict([[24.254]]))"
   ]
  },
  {
   "cell_type": "code",
   "execution_count": null,
   "metadata": {},
   "outputs": [],
   "source": []
  }
 ],
 "metadata": {
  "kernelspec": {
   "display_name": "Python 3",
   "language": "python",
   "name": "python3"
  },
  "language_info": {
   "codemirror_mode": {
    "name": "ipython",
    "version": 3
   },
   "file_extension": ".py",
   "mimetype": "text/x-python",
   "name": "python",
   "nbconvert_exporter": "python",
   "pygments_lexer": "ipython3",
   "version": "3.11.4"
  }
 },
 "nbformat": 4,
 "nbformat_minor": 2
}
