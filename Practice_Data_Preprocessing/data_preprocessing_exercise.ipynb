{
 "cells": [
  {
   "cell_type": "markdown",
   "metadata": {},
   "source": [
    "# Import Necessary Liabry"
   ]
  },
  {
   "cell_type": "code",
   "execution_count": 28,
   "metadata": {},
   "outputs": [],
   "source": [
    "## importing the neccessary liabry\n",
    "import numpy as np\n",
    "import pandas as pd"
   ]
  },
  {
   "cell_type": "markdown",
   "metadata": {},
   "source": [
    "# Load the data into pandas dataframe"
   ]
  },
  {
   "cell_type": "code",
   "execution_count": 29,
   "metadata": {},
   "outputs": [],
   "source": [
    "data = pd.read_csv('practicing_data_preprocessing_data.csv')\n"
   ]
  },
  {
   "cell_type": "markdown",
   "metadata": {},
   "source": [
    "# Store the all independent features into the X variable and all the dependent feature into the y variable"
   ]
  },
  {
   "cell_type": "code",
   "execution_count": 30,
   "metadata": {},
   "outputs": [],
   "source": [
    "X = data.iloc[:, :-1].values\n",
    "y = data.iloc[:, -1].values\n"
   ]
  },
  {
   "cell_type": "markdown",
   "metadata": {},
   "source": [
    "# Handle Missing Values"
   ]
  },
  {
   "cell_type": "code",
   "execution_count": 31,
   "metadata": {},
   "outputs": [
    {
     "name": "stdout",
     "output_type": "stream",
     "text": [
      "[['India' 34.0 92000.0]\n",
      " ['Sri lanka' 22.0 25000.0]\n",
      " ['China' 31.0 74000.0]\n",
      " ['Sri lanka' 29.0 54857.142857142855]\n",
      " ['China' 55.0 98000.0]\n",
      " ['India' 24.0 30000.0]\n",
      " ['Sri lanka' 28.0 40000.0]\n",
      " ['India' 33.714285714285715 60000.0]\n",
      " ['China' 51.0 89000.0]\n",
      " ['India' 44.0 78000.0]\n",
      " ['Sri lanka' 21.0 20000.0]\n",
      " ['China' 25.0 30000.0]\n",
      " ['India' 33.0 45000.0]\n",
      " ['India' 42.0 65000.0]\n",
      " ['Sri lanka' 33.0 22000.0]]\n"
     ]
    }
   ],
   "source": [
    "from sklearn.impute import SimpleImputer\n",
    "imputer = SimpleImputer(missing_values=np.nan, strategy='mean')\n",
    "imputer.fit(X[:, 1:4])\n",
    "X[:, 1:4] = imputer.transform(X[:, 1:4])\n",
    "print(X)"
   ]
  },
  {
   "cell_type": "markdown",
   "metadata": {},
   "source": [
    "## Encoding the categorical data"
   ]
  },
  {
   "cell_type": "markdown",
   "metadata": {},
   "source": [
    "### Encodign the X or the independent values"
   ]
  },
  {
   "cell_type": "code",
   "execution_count": 32,
   "metadata": {},
   "outputs": [
    {
     "name": "stdout",
     "output_type": "stream",
     "text": [
      "[[0.0 1.0 0.0 34.0 92000.0]\n",
      " [0.0 0.0 1.0 22.0 25000.0]\n",
      " [1.0 0.0 0.0 31.0 74000.0]\n",
      " [0.0 0.0 1.0 29.0 54857.142857142855]\n",
      " [1.0 0.0 0.0 55.0 98000.0]\n",
      " [0.0 1.0 0.0 24.0 30000.0]\n",
      " [0.0 0.0 1.0 28.0 40000.0]\n",
      " [0.0 1.0 0.0 33.714285714285715 60000.0]\n",
      " [1.0 0.0 0.0 51.0 89000.0]\n",
      " [0.0 1.0 0.0 44.0 78000.0]\n",
      " [0.0 0.0 1.0 21.0 20000.0]\n",
      " [1.0 0.0 0.0 25.0 30000.0]\n",
      " [0.0 1.0 0.0 33.0 45000.0]\n",
      " [0.0 1.0 0.0 42.0 65000.0]\n",
      " [0.0 0.0 1.0 33.0 22000.0]]\n"
     ]
    }
   ],
   "source": [
    "from sklearn.compose import ColumnTransformer\n",
    "from sklearn.preprocessing import OneHotEncoder\n",
    "ct = ColumnTransformer(transformers=[('encoder', OneHotEncoder(), [0])], remainder='passthrough')\n",
    "X = np.array(ct.fit_transform(X))\n",
    "print(X) "
   ]
  },
  {
   "cell_type": "markdown",
   "metadata": {},
   "source": [
    "### Encoding the dependent values or y"
   ]
  },
  {
   "cell_type": "code",
   "execution_count": 33,
   "metadata": {},
   "outputs": [
    {
     "name": "stdout",
     "output_type": "stream",
     "text": [
      "[1 1 1 0 1 0 0 0 1 1 0 1 1 1 0]\n"
     ]
    }
   ],
   "source": [
    "from sklearn.preprocessing import LabelEncoder\n",
    "le = LabelEncoder()\n",
    "y = le.fit_transform(y)\n",
    "print(y)"
   ]
  },
  {
   "cell_type": "markdown",
   "metadata": {},
   "source": [
    "## Spliting the data into train test split"
   ]
  },
  {
   "cell_type": "code",
   "execution_count": 34,
   "metadata": {},
   "outputs": [],
   "source": [
    "from sklearn.model_selection import train_test_split\n",
    "X_train, X_test, y_train, y_test = train_test_split(X,y, test_size=0.2, random_state=1)"
   ]
  },
  {
   "cell_type": "code",
   "execution_count": 35,
   "metadata": {},
   "outputs": [
    {
     "name": "stdout",
     "output_type": "stream",
     "text": [
      "[[1.0 0.0 0.0 31.0 74000.0]\n",
      " [0.0 0.0 1.0 21.0 20000.0]\n",
      " [1.0 0.0 0.0 55.0 98000.0]\n",
      " [0.0 0.0 1.0 22.0 25000.0]\n",
      " [0.0 1.0 0.0 42.0 65000.0]\n",
      " [0.0 1.0 0.0 34.0 92000.0]\n",
      " [0.0 0.0 1.0 33.0 22000.0]\n",
      " [0.0 1.0 0.0 44.0 78000.0]\n",
      " [1.0 0.0 0.0 51.0 89000.0]\n",
      " [0.0 1.0 0.0 33.0 45000.0]\n",
      " [1.0 0.0 0.0 25.0 30000.0]\n",
      " [0.0 1.0 0.0 24.0 30000.0]]\n"
     ]
    }
   ],
   "source": [
    "print(X_train)"
   ]
  },
  {
   "cell_type": "code",
   "execution_count": 36,
   "metadata": {},
   "outputs": [
    {
     "name": "stdout",
     "output_type": "stream",
     "text": [
      "[[0.0 0.0 1.0 29.0 54857.142857142855]\n",
      " [0.0 1.0 0.0 33.714285714285715 60000.0]\n",
      " [0.0 0.0 1.0 28.0 40000.0]]\n"
     ]
    }
   ],
   "source": [
    "print(X_test)"
   ]
  },
  {
   "cell_type": "code",
   "execution_count": 37,
   "metadata": {},
   "outputs": [
    {
     "data": {
      "text/plain": [
       "array([1, 0, 1, 1, 1, 1, 0, 1, 1, 1, 1, 0])"
      ]
     },
     "execution_count": 37,
     "metadata": {},
     "output_type": "execute_result"
    }
   ],
   "source": [
    "y_train"
   ]
  },
  {
   "cell_type": "code",
   "execution_count": 38,
   "metadata": {},
   "outputs": [
    {
     "data": {
      "text/plain": [
       "array([0, 0, 0])"
      ]
     },
     "execution_count": 38,
     "metadata": {},
     "output_type": "execute_result"
    }
   ],
   "source": [
    "y_test"
   ]
  },
  {
   "cell_type": "markdown",
   "metadata": {},
   "source": [
    "#3 Feature Scalling(It should do after train test split)"
   ]
  },
  {
   "cell_type": "code",
   "execution_count": 44,
   "metadata": {},
   "outputs": [
    {
     "name": "stdout",
     "output_type": "stream",
     "text": [
      "(12, 2)\n"
     ]
    }
   ],
   "source": [
    "print(X_train[:, 3:].shape)"
   ]
  },
  {
   "cell_type": "code",
   "execution_count": 47,
   "metadata": {},
   "outputs": [],
   "source": [
    "from sklearn.preprocessing import StandardScaler\n",
    "sc = StandardScaler()\n",
    "X_train[:, 3:] = sc.fit_transform(X_train[:, 3:])\n",
    "X_test[:, 3:] = sc.fit_transform(X_test[:, 3:])"
   ]
  },
  {
   "cell_type": "code",
   "execution_count": 48,
   "metadata": {},
   "outputs": [
    {
     "name": "stdout",
     "output_type": "stream",
     "text": [
      "[[1.0 0.0 0.0 -0.33235613578162815 0.637555294512461]\n",
      " [0.0 0.0 1.0 -1.2598616309861719 -1.2403348456878782]\n",
      " [1.0 0.0 0.0 1.8936570527092769 1.4721731346015006]\n",
      " [0.0 0.0 1.0 -1.1671110814657175 -1.0664561290026617]\n",
      " [0.0 1.0 0.0 0.6878999089433699 0.324573604479071]\n",
      " [0.0 1.0 0.0 -0.05410448722026508 1.2635186745792406]\n",
      " [0.0 0.0 1.0 -0.14685503674071945 -1.1707833590137917]\n",
      " [0.0 1.0 0.0 0.8734010079842788 0.7766582678606342]\n",
      " [1.0 0.0 0.0 1.5226548546274594 1.1591914445681106]\n",
      " [0.0 1.0 0.0 -0.14685503674071945 -0.37094126226179536]\n",
      " [1.0 0.0 0.0 -0.8888594329043545 -0.892577412317445]\n",
      " [0.0 1.0 0.0 -0.9816099824248089 -0.892577412317445]]\n"
     ]
    }
   ],
   "source": [
    "print(X_train)"
   ]
  },
  {
   "cell_type": "code",
   "execution_count": 49,
   "metadata": {},
   "outputs": [
    {
     "name": "stdout",
     "output_type": "stream",
     "text": [
      "[[0.0 0.0 1.0 -0.49688584623919657 0.38185378196002606]\n",
      " [0.0 1.0 0.0 1.3951025682869713 0.988327435661243]\n",
      " [0.0 0.0 1.0 -0.8982167220477776 -1.3701812176212664]]\n"
     ]
    }
   ],
   "source": [
    "print(X_test)"
   ]
  },
  {
   "cell_type": "code",
   "execution_count": null,
   "metadata": {},
   "outputs": [],
   "source": []
  }
 ],
 "metadata": {
  "kernelspec": {
   "display_name": "Python 3",
   "language": "python",
   "name": "python3"
  },
  "language_info": {
   "codemirror_mode": {
    "name": "ipython",
    "version": 3
   },
   "file_extension": ".py",
   "mimetype": "text/x-python",
   "name": "python",
   "nbconvert_exporter": "python",
   "pygments_lexer": "ipython3",
   "version": "3.11.4"
  }
 },
 "nbformat": 4,
 "nbformat_minor": 2
}
